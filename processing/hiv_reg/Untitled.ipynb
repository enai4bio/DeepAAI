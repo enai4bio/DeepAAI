{
 "cells": [
  {
   "cell_type": "code",
   "execution_count": 1,
   "metadata": {},
   "outputs": [],
   "source": [
    "import numpy as np\n",
    "import pandas as pd"
   ]
  },
  {
   "cell_type": "code",
   "execution_count": 2,
   "metadata": {},
   "outputs": [
    {
     "data": {
      "text/html": [
       "<div>\n",
       "<style scoped>\n",
       "    .dataframe tbody tr th:only-of-type {\n",
       "        vertical-align: middle;\n",
       "    }\n",
       "\n",
       "    .dataframe tbody tr th {\n",
       "        vertical-align: top;\n",
       "    }\n",
       "\n",
       "    .dataframe thead th {\n",
       "        text-align: right;\n",
       "    }\n",
       "</style>\n",
       "<table border=\"1\" class=\"dataframe\">\n",
       "  <thead>\n",
       "    <tr style=\"text-align: right;\">\n",
       "      <th></th>\n",
       "      <th>antibody_seq</th>\n",
       "      <th>virus_seq</th>\n",
       "      <th>ic50</th>\n",
       "      <th>split</th>\n",
       "    </tr>\n",
       "  </thead>\n",
       "  <tbody>\n",
       "    <tr>\n",
       "      <th>0</th>\n",
       "      <td>LLESGPGLLKPSETLSLTCTVSGGSMINYYWSWIRQPPGERPQWLG...</td>\n",
       "      <td>MRVRGIQMNWPHLWKWGTLIIGLVIICSASDNLWVTVYYGVPVWRD...</td>\n",
       "      <td>27.80</td>\n",
       "      <td>seen</td>\n",
       "    </tr>\n",
       "    <tr>\n",
       "      <th>1</th>\n",
       "      <td>LLESGPGLLKPSETLSLTCTVSGGSMINYYWSWIRQPPGERPQWLG...</td>\n",
       "      <td>MRAMGTQMNWQTLWRWGILILGLGIICSASKDLWVTVYYGVPVWED...</td>\n",
       "      <td>7.85</td>\n",
       "      <td>seen</td>\n",
       "    </tr>\n",
       "    <tr>\n",
       "      <th>2</th>\n",
       "      <td>LLESGPGLLKPSETLSLTCTVSGGSMINYYWSWIRQPPGERPQWLG...</td>\n",
       "      <td>MEIRKNYQHLWRWGIMLLWLLMSCSAEEEAWVTVYYGVPVWKEAVT...</td>\n",
       "      <td>48.60</td>\n",
       "      <td>seen</td>\n",
       "    </tr>\n",
       "    <tr>\n",
       "      <th>3</th>\n",
       "      <td>LLESGPGLLKPSETLSLTCTVSGGSMINYYWSWIRQPPGERPQWLG...</td>\n",
       "      <td>MTVKGIRKNYQHLWKWGIMLLGILMICSAEEDTWVTVYYGVPVWKE...</td>\n",
       "      <td>20.70</td>\n",
       "      <td>seen</td>\n",
       "    </tr>\n",
       "    <tr>\n",
       "      <th>4</th>\n",
       "      <td>LLESGPGLLKPSETLSLTCTVSGGSMINYYWSWIRQPPGERPQWLG...</td>\n",
       "      <td>MRVRGIQRNCQNLWRWGAMVLGMIIICSAADNLWVTVYYGVPVWRD...</td>\n",
       "      <td>33.00</td>\n",
       "      <td>seen</td>\n",
       "    </tr>\n",
       "  </tbody>\n",
       "</table>\n",
       "</div>"
      ],
      "text/plain": [
       "                                        antibody_seq  \\\n",
       "0  LLESGPGLLKPSETLSLTCTVSGGSMINYYWSWIRQPPGERPQWLG...   \n",
       "1  LLESGPGLLKPSETLSLTCTVSGGSMINYYWSWIRQPPGERPQWLG...   \n",
       "2  LLESGPGLLKPSETLSLTCTVSGGSMINYYWSWIRQPPGERPQWLG...   \n",
       "3  LLESGPGLLKPSETLSLTCTVSGGSMINYYWSWIRQPPGERPQWLG...   \n",
       "4  LLESGPGLLKPSETLSLTCTVSGGSMINYYWSWIRQPPGERPQWLG...   \n",
       "\n",
       "                                           virus_seq   ic50 split  \n",
       "0  MRVRGIQMNWPHLWKWGTLIIGLVIICSASDNLWVTVYYGVPVWRD...  27.80  seen  \n",
       "1  MRAMGTQMNWQTLWRWGILILGLGIICSASKDLWVTVYYGVPVWED...   7.85  seen  \n",
       "2  MEIRKNYQHLWRWGIMLLWLLMSCSAEEEAWVTVYYGVPVWKEAVT...  48.60  seen  \n",
       "3  MTVKGIRKNYQHLWKWGIMLLGILMICSAEEDTWVTVYYGVPVWKE...  20.70  seen  \n",
       "4  MRVRGIQRNCQNLWRWGAMVLGMIIICSAADNLWVTVYYGVPVWRD...  33.00  seen  "
      ]
     },
     "execution_count": 2,
     "metadata": {},
     "output_type": "execute_result"
    }
   ],
   "source": [
    "data_df = pd.read_excel('dataset_hiv_reg.xlsx')\n",
    "data_df.head()"
   ]
  },
  {
   "cell_type": "code",
   "execution_count": 3,
   "metadata": {},
   "outputs": [
    {
     "name": "stderr",
     "output_type": "stream",
     "text": [
      "/home/SENSETIME/duyishan1/anaconda3/envs/esm/lib/python3.7/site-packages/ipykernel_launcher.py:4: DeprecationWarning: `np.long` is a deprecated alias for `np.compat.long`. To silence this warning, use `np.compat.long` by itself. In the likely event your code does not need to work on Python 2 you can use the builtin `int` for which `np.compat.long` is itself an alias. Doing this will not modify any behaviour and is safe. When replacing `np.long`, you may wish to use e.g. `np.int64` or `np.int32` to specify the precision. If you wish to review your current use, check the release note link for additional information.\n",
      "Deprecated in NumPy 1.20; for more details and guidance: https://numpy.org/devdocs/release/1.20.0-notes.html#deprecations\n",
      "  after removing the cwd from sys.path.\n",
      "/home/SENSETIME/duyishan1/anaconda3/envs/esm/lib/python3.7/site-packages/ipykernel_launcher.py:5: RuntimeWarning: divide by zero encountered in log\n",
      "  \"\"\"\n"
     ]
    }
   ],
   "source": [
    "split = data_df['split'].to_numpy()\n",
    "train_index = np.where(split == 'seen')[0]\n",
    "test_unseen_index = np.where(split == 'unseen')[0]\n",
    "all_label_mat = data_df['ic50'].to_numpy().astype(np.long)\n",
    "all_label_mat = np.log(all_label_mat)"
   ]
  },
  {
   "cell_type": "code",
   "execution_count": 6,
   "metadata": {},
   "outputs": [
    {
     "name": "stderr",
     "output_type": "stream",
     "text": [
      "/home/SENSETIME/duyishan1/anaconda3/envs/esm/lib/python3.7/site-packages/ipykernel_launcher.py:1: DeprecationWarning: `np.long` is a deprecated alias for `np.compat.long`. To silence this warning, use `np.compat.long` by itself. In the likely event your code does not need to work on Python 2 you can use the builtin `int` for which `np.compat.long` is itself an alias. Doing this will not modify any behaviour and is safe. When replacing `np.long`, you may wish to use e.g. `np.int64` or `np.int32` to specify the precision. If you wish to review your current use, check the release note link for additional information.\n",
      "Deprecated in NumPy 1.20; for more details and guidance: https://numpy.org/devdocs/release/1.20.0-notes.html#deprecations\n",
      "  \"\"\"Entry point for launching an IPython kernel.\n"
     ]
    },
    {
     "data": {
      "text/plain": [
       "array([27,  7, 48, ..., 31,  1,  4])"
      ]
     },
     "execution_count": 6,
     "metadata": {},
     "output_type": "execute_result"
    }
   ],
   "source": [
    "all_label_mat = data_df['ic50'].to_numpy().astype(np.long)\n",
    "all_label_mat"
   ]
  },
  {
   "cell_type": "code",
   "execution_count": 4,
   "metadata": {},
   "outputs": [
    {
     "data": {
      "text/plain": [
       "array([3.29583687, 1.94591015, 3.87120101, ..., 3.4339872 , 0.        ,\n",
       "       1.38629436])"
      ]
     },
     "execution_count": 4,
     "metadata": {},
     "output_type": "execute_result"
    }
   ],
   "source": [
    "all_label_mat"
   ]
  },
  {
   "cell_type": "code",
   "execution_count": 5,
   "metadata": {},
   "outputs": [
    {
     "data": {
      "text/plain": [
       "-inf"
      ]
     },
     "execution_count": 5,
     "metadata": {},
     "output_type": "execute_result"
    }
   ],
   "source": [
    "all_label_mat.min()"
   ]
  },
  {
   "cell_type": "code",
   "execution_count": null,
   "metadata": {},
   "outputs": [],
   "source": []
  }
 ],
 "metadata": {
  "kernelspec": {
   "display_name": "esm",
   "language": "python",
   "name": "esm"
  },
  "language_info": {
   "codemirror_mode": {
    "name": "ipython",
    "version": 3
   },
   "file_extension": ".py",
   "mimetype": "text/x-python",
   "name": "python",
   "nbconvert_exporter": "python",
   "pygments_lexer": "ipython3",
   "version": "3.7.10"
  }
 },
 "nbformat": 4,
 "nbformat_minor": 2
}
